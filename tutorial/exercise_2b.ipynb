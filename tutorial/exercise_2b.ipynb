{
 "cells": [
  {
   "cell_type": "markdown",
   "id": "35fab6c2",
   "metadata": {},
   "source": [
    "# Exercise 2b - PyOpenCL demo\n",
    "The goal of this exercise is show the basic usecase of PyOpenCL. </br>\n",
    "We will perform a simple elementwise operation on the GPU in two ways: \n",
    "- using PyOpenCL's array API\n",
    "- manually by building and calling a C kernel."
   ]
  },
  {
   "cell_type": "code",
   "execution_count": null,
   "id": "2b76b2c8",
   "metadata": {},
   "outputs": [],
   "source": [
    "import numpy as np\n",
    "import pyopencl as cl"
   ]
  },
  {
   "cell_type": "code",
   "execution_count": null,
   "id": "1ecd418c",
   "metadata": {},
   "outputs": [],
   "source": [
    "cl.array"
   ]
  },
  {
   "cell_type": "markdown",
   "id": "e9da22de",
   "metadata": {},
   "source": [
    "In PyopenCL we have to define our context manually. In the simplest case this means we select a platform, then a device, then initialize a context on this device."
   ]
  },
  {
   "cell_type": "code",
   "execution_count": null,
   "id": "d7706e9e",
   "metadata": {},
   "outputs": [],
   "source": [
    "import pyopencl as cl\n",
    "platforms_list = cl.get_platforms()"
   ]
  },
  {
   "cell_type": "code",
   "execution_count": null,
   "id": "e0999798",
   "metadata": {},
   "outputs": [],
   "source": [
    "device_gpu = cp.cuda.Device(0)\n",
    "device_gpu.attributes"
   ]
  },
  {
   "cell_type": "code",
   "execution_count": null,
   "id": "c4b708e4",
   "metadata": {
    "scrolled": true
   },
   "outputs": [],
   "source": [
    "# the total amount of memory in bytes\n",
    "device_gpu.mem_info"
   ]
  },
  {
   "cell_type": "code",
   "execution_count": null,
   "id": "dd6a5daf",
   "metadata": {},
   "outputs": [],
   "source": [
    "15843721216 / 1024 / 1024 / 1024"
   ]
  },
  {
   "cell_type": "markdown",
   "id": "9b1eaf6c",
   "metadata": {},
   "source": [
    "Initialize an input array on the CPU"
   ]
  },
  {
   "cell_type": "code",
   "execution_count": null,
   "id": "9fe545c4",
   "metadata": {},
   "outputs": [],
   "source": [
    "x_cpu = np.random.rand(10)"
   ]
  },
  {
   "cell_type": "markdown",
   "id": "729f94fe",
   "metadata": {},
   "source": [
    "Transfer this array to the GPU"
   ]
  },
  {
   "cell_type": "code",
   "execution_count": null,
   "id": "019e3c3d",
   "metadata": {},
   "outputs": [],
   "source": [
    "x_gpu = cp.array(x_cpu)"
   ]
  },
  {
   "cell_type": "markdown",
   "id": "8bf9faa6",
   "metadata": {},
   "source": [
    "CuPy arrays work like NumPy arrays"
   ]
  },
  {
   "cell_type": "code",
   "execution_count": null,
   "id": "dab1f636",
   "metadata": {},
   "outputs": [],
   "source": [
    "print(type(x_cpu), type(x_gpu))"
   ]
  },
  {
   "cell_type": "code",
   "execution_count": null,
   "id": "dfec50ba",
   "metadata": {},
   "outputs": [],
   "source": [
    "x_gpu.shape"
   ]
  },
  {
   "cell_type": "code",
   "execution_count": null,
   "id": "f839599c",
   "metadata": {},
   "outputs": [],
   "source": [
    "x_gpu[::5]"
   ]
  },
  {
   "cell_type": "markdown",
   "id": "22e58743",
   "metadata": {},
   "source": [
    "You can find the CuPy equivalent of each NumPy math operation [here](https://docs.cupy.dev/en/stable/reference/comparison.html#numpy-cupy-apis)."
   ]
  },
  {
   "cell_type": "markdown",
   "id": "2afbe546",
   "metadata": {},
   "source": [
    "An elementwise operation"
   ]
  },
  {
   "cell_type": "code",
   "execution_count": null,
   "id": "592e8825",
   "metadata": {},
   "outputs": [],
   "source": [
    "y_gpu = 2 * cp.sin(x_gpu) + cp.exp(x_gpu)\n",
    "print(type(y_gpu))"
   ]
  },
  {
   "cell_type": "markdown",
   "id": "c2899eca",
   "metadata": {},
   "source": [
    "A reduction operation. Note that CuPy returns a one dimensional array while NumPy returns a floating point number."
   ]
  },
  {
   "cell_type": "code",
   "execution_count": null,
   "id": "fd6d4e98",
   "metadata": {},
   "outputs": [],
   "source": [
    "z_cpu = np.sum(x_cpu)\n",
    "z_gpu = cp.sum(x_gpu)\n",
    "print(z_cpu, type(z_cpu), z_gpu, type(z_gpu))"
   ]
  },
  {
   "cell_type": "markdown",
   "id": "d0b79fbf",
   "metadata": {},
   "source": [
    "Transfer data back to the CPU"
   ]
  },
  {
   "cell_type": "code",
   "execution_count": null,
   "id": "816d6529",
   "metadata": {},
   "outputs": [],
   "source": [
    "y_cpu = y_gpu.get()\n",
    "z_cpu = z_gpu.get()\n",
    "print(type(y_cpu), type(z_cpu))"
   ]
  },
  {
   "cell_type": "markdown",
   "id": "a68c1e2c",
   "metadata": {},
   "source": [
    "We can do the same using manually defined low level C kernels"
   ]
  },
  {
   "cell_type": "code",
   "execution_count": null,
   "id": "fe3e4ae9",
   "metadata": {},
   "outputs": [],
   "source": [
    "source_str = r\"\"\"\n",
    "extern \"C\"{\n",
    "__global__\n",
    "void elementwise(const double* x, \n",
    "                 double* y)\n",
    "{\n",
    "    int i = blockDim.x * blockIdx.x + threadIdx.x;\n",
    "    int j = blockDim.y * blockIdx.y + threadIdx.y;\n",
    "    y[i] = 2 * sin(x[i]) + exp(x[i]);\n",
    "}\n",
    "}\n",
    "\"\"\""
   ]
  },
  {
   "cell_type": "markdown",
   "id": "1dcffc9f",
   "metadata": {},
   "source": [
    "Build and load the kernel function"
   ]
  },
  {
   "cell_type": "code",
   "execution_count": null,
   "id": "023f31c0",
   "metadata": {},
   "outputs": [],
   "source": [
    "module = cp.RawModule(code=source_str)\n",
    "elementwise_kernel = module.get_function(\"elementwise\")"
   ]
  },
  {
   "cell_type": "markdown",
   "id": "a1c9dc02",
   "metadata": {},
   "source": [
    "Define an output array on the GPU"
   ]
  },
  {
   "cell_type": "code",
   "execution_count": null,
   "id": "35b8b6e8",
   "metadata": {},
   "outputs": [],
   "source": [
    "y_gpu_2 = cp.zeros_like(x_gpu)"
   ]
  },
  {
   "cell_type": "markdown",
   "id": "b34037fb",
   "metadata": {},
   "source": [
    "To call the kernel function we define the thread block size and the number of blocks."
   ]
  },
  {
   "cell_type": "code",
   "execution_count": null,
   "id": "c1a0d371",
   "metadata": {},
   "outputs": [],
   "source": [
    "blocksize = 1\n",
    "n_blocks = int(np.ceil(len(x_cpu) / blocksize))  # grid has len(x) threads grouped into blocks"
   ]
  },
  {
   "cell_type": "code",
   "execution_count": null,
   "id": "4b6d0bed",
   "metadata": {},
   "outputs": [],
   "source": [
    "elementwise_kernel(grid=(n_blocks,), block=(blocksize,), args=(x_gpu, y_gpu_2))"
   ]
  },
  {
   "cell_type": "markdown",
   "id": "47fadd5e",
   "metadata": {},
   "source": [
    "Check that the two outputs (using the API and the C kernel) are the same."
   ]
  },
  {
   "cell_type": "code",
   "execution_count": null,
   "id": "4a5be6ed",
   "metadata": {},
   "outputs": [],
   "source": [
    "cp.allclose(y_gpu, y_gpu_2)"
   ]
  },
  {
   "cell_type": "markdown",
   "id": "e6123be2",
   "metadata": {},
   "source": [
    "#### Profiling"
   ]
  },
  {
   "cell_type": "code",
   "execution_count": null,
   "id": "f14c351c",
   "metadata": {},
   "outputs": [],
   "source": [
    "from cupyx.profiler import benchmark"
   ]
  },
  {
   "cell_type": "code",
   "execution_count": null,
   "id": "ddb8faae",
   "metadata": {},
   "outputs": [],
   "source": [
    "def elementwise(n_blocks, blocksize, x, y):\n",
    "    elementwise_kernel(grid=(n_blocks,), block=(blocksize,), args=(x, y))"
   ]
  },
  {
   "cell_type": "code",
   "execution_count": null,
   "id": "f2bcc7c0",
   "metadata": {},
   "outputs": [],
   "source": [
    "blocksize = 4\n",
    "n_blocks = int(np.ceil(len(x_cpu) / blocksize))\n",
    "print(benchmark(elementwise, (n_blocks, blocksize, x_gpu, y_gpu), n_repeat=100))"
   ]
  },
  {
   "cell_type": "code",
   "execution_count": null,
   "id": "31059706",
   "metadata": {},
   "outputs": [],
   "source": [
    "import numpy as np\n",
    "from time import time\n",
    "import pyopencl as cl\n",
    "import pyopencl.array as cl_array\n",
    "import pyopencl.characterize.performance as perf"
   ]
  },
  {
   "cell_type": "code",
   "execution_count": null,
   "id": "94d20fc8",
   "metadata": {},
   "outputs": [],
   "source": [
    "src_twice = r\"\"\"\n",
    "__kernel void mul(\n",
    "    __global const double* x, \n",
    "    __global double* y,\n",
    "{\n",
    "    int i = get_global_id(0);\n",
    "    int j;\n",
    "    for(j=0; j<1000; j++)\n",
    "    { \n",
    "        y[i] = 2 * x[i];\n",
    "    }    \n",
    "}\"\"\"      "
   ]
  },
  {
   "cell_type": "code",
   "execution_count": null,
   "id": "0967d375",
   "metadata": {},
   "outputs": [],
   "source": [
    "x = np.random.rand(100)  "
   ]
  },
  {
   "cell_type": "code",
   "execution_count": null,
   "id": "d6e262b5",
   "metadata": {},
   "outputs": [],
   "source": [
    "cl.get_platforms()"
   ]
  },
  {
   "cell_type": "code",
   "execution_count": null,
   "id": "96dfc877",
   "metadata": {},
   "outputs": [],
   "source": [
    "ctx = cl.create_some_context(interactive=False)"
   ]
  },
  {
   "cell_type": "code",
   "execution_count": null,
   "id": "31375b3b",
   "metadata": {},
   "outputs": [],
   "source": [
    "queue = cl.CommandQueue(ctx, properties=cl.command_queue_properties.PROFILING_ENABLE)"
   ]
  },
  {
   "cell_type": "code",
   "execution_count": null,
   "id": "c206150f",
   "metadata": {},
   "outputs": [],
   "source": [
    "prg = cl.Program(ctx,src_twice).build()\n",
    "x_buffer = cl.Buffer(ctx, cl.mem_flags.READ_ONLY | cl.mem_flags.COPY_HOST_PTR, hostbuf=x)\n",
    "y_buffer = cl.Buffer(ctx, cl.mem_flags.WRITE_ONLY, x.nbytes)"
   ]
  },
  {
   "cell_type": "code",
   "execution_count": null,
   "id": "5da2b3f5",
   "metadata": {},
   "outputs": [],
   "source": [
    "grid_size = len(x)\n",
    "workgroup_size = 1 "
   ]
  },
  {
   "cell_type": "code",
   "execution_count": null,
   "id": "62bfc65b",
   "metadata": {},
   "outputs": [],
   "source": [
    "event = prg.src_twice(queue, (grid_size,), (workgroup_size,), x_buffer, y_buffer)\n",
    "event.wait()  # synchronize\n",
    "elapsed = (event.profile.end - event.profile.start)*1e-3 # convert from [ns] to [us]\n",
    "print(f\"GPU kernel time: {int(elapsed)} us\")"
   ]
  }
 ],
 "metadata": {
  "kernelspec": {
   "display_name": "Python 3",
   "language": "python",
   "name": "python3"
  },
  "language_info": {
   "codemirror_mode": {
    "name": "ipython",
    "version": 3
   },
   "file_extension": ".py",
   "mimetype": "text/x-python",
   "name": "python",
   "nbconvert_exporter": "python",
   "pygments_lexer": "ipython3",
   "version": "3.9.12"
  }
 },
 "nbformat": 4,
 "nbformat_minor": 5
}
