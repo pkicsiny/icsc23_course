{
 "cells": [
  {
   "cell_type": "markdown",
   "id": "3eb2e5e8",
   "metadata": {},
   "source": [
    "# Exercise 2a - CuPy demo\n",
    "The goal of this demo is show the basic usecase of CuPy. </br>\n",
    "We will perform a simple elementwise operation on the GPU in two ways: \n",
    "- using CuPy's array API\n",
    "- manually by building and calling a C kernel."
   ]
  },
  {
   "cell_type": "code",
   "execution_count": null,
   "id": "2b76b2c8",
   "metadata": {},
   "outputs": [],
   "source": [
    "import numpy as np\n",
    "import cupy as cp"
   ]
  },
  {
   "cell_type": "markdown",
   "id": "9a8792fa",
   "metadata": {},
   "source": [
    "Create an object representing the GPU device"
   ]
  },
  {
   "cell_type": "code",
   "execution_count": null,
   "id": "65745419",
   "metadata": {},
   "outputs": [],
   "source": [
    "device_gpu = cp.cuda.Device(0)"
   ]
  },
  {
   "cell_type": "code",
   "execution_count": null,
   "id": "b1016949",
   "metadata": {
    "scrolled": true
   },
   "outputs": [],
   "source": [
    "# the total amount of GPU memory in bytes\n",
    "device_gpu.mem_info"
   ]
  },
  {
   "cell_type": "markdown",
   "id": "f3ea0e77",
   "metadata": {},
   "source": [
    "Initialize an input array on the CPU"
   ]
  },
  {
   "cell_type": "code",
   "execution_count": null,
   "id": "9fe545c4",
   "metadata": {},
   "outputs": [],
   "source": [
    "x_cpu = np.random.rand(int(1e6))"
   ]
  },
  {
   "cell_type": "markdown",
   "id": "34538c2b",
   "metadata": {},
   "source": [
    "Transfer this array to the GPU"
   ]
  },
  {
   "cell_type": "code",
   "execution_count": null,
   "id": "755ee524",
   "metadata": {},
   "outputs": [],
   "source": [
    "x_gpu = cp.array(x_cpu)"
   ]
  },
  {
   "cell_type": "markdown",
   "id": "c84022ca",
   "metadata": {},
   "source": [
    "CuPy arrays work like NumPy arrays"
   ]
  },
  {
   "cell_type": "code",
   "execution_count": null,
   "id": "5a8e9fef",
   "metadata": {},
   "outputs": [],
   "source": [
    "print(type(x_cpu), type(x_gpu))"
   ]
  },
  {
   "cell_type": "code",
   "execution_count": null,
   "id": "2eb13d2d",
   "metadata": {},
   "outputs": [],
   "source": [
    "x_gpu.shape"
   ]
  },
  {
   "cell_type": "markdown",
   "id": "a6bf126f",
   "metadata": {},
   "source": [
    "You can find the CuPy equivalent of each NumPy math operation [here](https://docs.cupy.dev/en/stable/reference/comparison.html#numpy-cupy-apis)."
   ]
  },
  {
   "cell_type": "markdown",
   "id": "9ba5693b",
   "metadata": {},
   "source": [
    "An elementwise operation"
   ]
  },
  {
   "cell_type": "code",
   "execution_count": null,
   "id": "f1846db9",
   "metadata": {},
   "outputs": [],
   "source": [
    "y_gpu = 2 * cp.sin(x_gpu) + cp.exp(x_gpu)\n",
    "print(type(y_gpu))"
   ]
  },
  {
   "cell_type": "markdown",
   "id": "27843866",
   "metadata": {},
   "source": [
    "A reduction operation."
   ]
  },
  {
   "cell_type": "code",
   "execution_count": null,
   "id": "116ad7df",
   "metadata": {},
   "outputs": [],
   "source": [
    "z_cpu = np.sum(x_cpu)\n",
    "z_gpu = cp.sum(x_gpu)\n",
    "print(z_cpu, type(z_cpu), z_gpu, type(z_gpu))"
   ]
  },
  {
   "cell_type": "markdown",
   "id": "7ea04cfc",
   "metadata": {},
   "source": [
    "Transfer data back to the CPU"
   ]
  },
  {
   "cell_type": "code",
   "execution_count": null,
   "id": "e2440ece",
   "metadata": {},
   "outputs": [],
   "source": [
    "y_cpu = y_gpu.get()\n",
    "z_cpu = z_gpu.get()\n",
    "print(type(y_cpu), type(z_cpu))"
   ]
  },
  {
   "cell_type": "markdown",
   "id": "51be1630",
   "metadata": {},
   "source": [
    "We can do the same using manually defined low level C kernels"
   ]
  },
  {
   "cell_type": "code",
   "execution_count": null,
   "id": "48051246",
   "metadata": {},
   "outputs": [],
   "source": [
    "source_str = r\"\"\"\n",
    "extern \"C\"{\n",
    "__global__\n",
    "void elementwise(const double* x, \n",
    "                 double* y)\n",
    "{\n",
    "    int i = blockDim.x * blockIdx.x + threadIdx.x;\n",
    "    y[i] = 2 * sin(x[i]) + exp(x[i]);\n",
    "}\n",
    "}\n",
    "\"\"\""
   ]
  },
  {
   "cell_type": "markdown",
   "id": "e09c25ec",
   "metadata": {},
   "source": [
    "Build and load the kernel function"
   ]
  },
  {
   "cell_type": "code",
   "execution_count": null,
   "id": "6066f97b",
   "metadata": {},
   "outputs": [],
   "source": [
    "module = cp.RawModule(code=source_str)\n",
    "elementwise_kernel = module.get_function(\"elementwise\")"
   ]
  },
  {
   "cell_type": "markdown",
   "id": "815131aa",
   "metadata": {},
   "source": [
    "Define an output array on the GPU"
   ]
  },
  {
   "cell_type": "code",
   "execution_count": null,
   "id": "96ad87fe",
   "metadata": {},
   "outputs": [],
   "source": [
    "y_gpu_2 = cp.zeros_like(x_gpu)"
   ]
  },
  {
   "cell_type": "markdown",
   "id": "9c45d7b9",
   "metadata": {},
   "source": [
    "To call the kernel function we define the thread block size and the number of blocks."
   ]
  },
  {
   "cell_type": "code",
   "execution_count": null,
   "id": "0dd526f8",
   "metadata": {},
   "outputs": [],
   "source": [
    "blocksize = 1\n",
    "n_blocks = int(np.ceil(len(x_cpu) / blocksize))  # grid has len(x) threads grouped into blocks"
   ]
  },
  {
   "cell_type": "code",
   "execution_count": null,
   "id": "6f98341c",
   "metadata": {},
   "outputs": [],
   "source": [
    "elementwise_kernel(grid=(n_blocks,), block=(blocksize,), args=(x_gpu, y_gpu_2))"
   ]
  },
  {
   "cell_type": "markdown",
   "id": "18bf6b14",
   "metadata": {},
   "source": [
    "Check that the two outputs (using the API and the C kernel) are the same."
   ]
  },
  {
   "cell_type": "code",
   "execution_count": null,
   "id": "1366de37",
   "metadata": {},
   "outputs": [],
   "source": [
    "cp.allclose(y_gpu, y_gpu_2)"
   ]
  },
  {
   "cell_type": "markdown",
   "id": "3a2c581a",
   "metadata": {},
   "source": [
    "#### Profiling"
   ]
  },
  {
   "cell_type": "markdown",
   "id": "50f5d571",
   "metadata": {},
   "source": [
    "CuPy has its own benchmark utility for simple timing tests that spares us from having to use synchronization barriers manually."
   ]
  },
  {
   "cell_type": "code",
   "execution_count": null,
   "id": "4ac598a4",
   "metadata": {},
   "outputs": [],
   "source": [
    "from cupyx.profiler import benchmark"
   ]
  },
  {
   "cell_type": "markdown",
   "id": "91574f52",
   "metadata": {},
   "source": [
    "We can us it by first wrapping our CuPy operation in a Python function."
   ]
  },
  {
   "cell_type": "code",
   "execution_count": null,
   "id": "ddb8faae",
   "metadata": {},
   "outputs": [],
   "source": [
    "def elementwise(n_blocks, blocksize, x, y):\n",
    "    elementwise_kernel(grid=(n_blocks,), block=(blocksize,), args=(x, y))"
   ]
  },
  {
   "cell_type": "markdown",
   "id": "130f3872",
   "metadata": {},
   "source": [
    "Define block and grid parameters, then time the execution of our elementwise kernel. Do 100 iterations for reasonable timing statistics."
   ]
  },
  {
   "cell_type": "code",
   "execution_count": null,
   "id": "f2bcc7c0",
   "metadata": {},
   "outputs": [],
   "source": [
    "blocksize = 1\n",
    "n_blocks = int(np.ceil(len(x_cpu) / blocksize))\n",
    "\n",
    "x_gpu = cp.array(x_cpu)\n",
    "y_gpu = cp.zeros_like(x_gpu)\n",
    "print(benchmark(elementwise, (n_blocks, blocksize, x_gpu, y_gpu), n_repeat=100))"
   ]
  },
  {
   "cell_type": "code",
   "execution_count": null,
   "id": "9ea84409",
   "metadata": {},
   "outputs": [],
   "source": []
  }
 ],
 "metadata": {
  "kernelspec": {
   "display_name": "Python 3",
   "language": "python",
   "name": "python3"
  },
  "language_info": {
   "codemirror_mode": {
    "name": "ipython",
    "version": 3
   },
   "file_extension": ".py",
   "mimetype": "text/x-python",
   "name": "python",
   "nbconvert_exporter": "python",
   "pygments_lexer": "ipython3",
   "version": "3.9.12"
  }
 },
 "nbformat": 4,
 "nbformat_minor": 5
}
