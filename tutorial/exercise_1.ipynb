{
 "cells": [
  {
   "cell_type": "code",
   "execution_count": null,
   "id": "add6688d",
   "metadata": {},
   "outputs": [],
   "source": [
    "import numpy as np\n",
    "from matplotlib import pyplot as plt\n",
    "import cffi"
   ]
  },
  {
   "cell_type": "markdown",
   "id": "583ff2bc",
   "metadata": {},
   "source": [
    "A recursive Python function for computing the n-th Fibonacci number."
   ]
  },
  {
   "cell_type": "code",
   "execution_count": null,
   "id": "700af387",
   "metadata": {},
   "outputs": [],
   "source": [
    "def fibonacci(n):\n",
    "    if n == 1:\n",
    "        return 1\n",
    "    elif n == 2:\n",
    "        return 1\n",
    "    else:\n",
    "        return fibonacci(n-1) + fibonacci(n-2)"
   ]
  },
  {
   "cell_type": "code",
   "execution_count": null,
   "id": "c2c71bd0",
   "metadata": {},
   "outputs": [],
   "source": [
    "fibonacci(10)"
   ]
  },
  {
   "cell_type": "markdown",
   "id": "d0c9fc99",
   "metadata": {},
   "source": [
    "Now we create the same function in C."
   ]
  },
  {
   "cell_type": "code",
   "execution_count": null,
   "id": "33619ef9",
   "metadata": {},
   "outputs": [],
   "source": [
    "fibonacci_src = r\"\"\"\n",
    "int fibonacci(int n){\n",
    "  if (n == 1){\n",
    "    return 1;\n",
    "  }\n",
    "  else if (n == 2){\n",
    "    return 1;\n",
    "  }\n",
    "  else{\n",
    "    return fibonacci(n-1) + fibonacci(n-2);\n",
    "  }\n",
    "}\n",
    "\"\"\""
   ]
  },
  {
   "cell_type": "markdown",
   "id": "99f602d0",
   "metadata": {},
   "source": [
    "Next we use CFFI and set up the C extension module.\n",
    "Complete the bodies of cffi.FFI.cdef() and cffi.FFI.set_source() to se tup the C extension module."
   ]
  },
  {
   "cell_type": "code",
   "execution_count": null,
   "id": "426f5dc7",
   "metadata": {},
   "outputs": [],
   "source": [
    "ffi_interface = cffi.FFI()\n",
    "\n",
    "ffi_interface.cdef(\n",
    "    \"\"\"\n",
    "    int fibonacci(int);\n",
    "    \"\"\"\n",
    ")\n",
    "\n",
    "ffi_interface.set_source(\n",
    "    \"_exercise_1\",\n",
    "    fibonacci_src\n",
    ")"
   ]
  },
  {
   "cell_type": "markdown",
   "id": "83cab394",
   "metadata": {},
   "source": [
    "Now we compile."
   ]
  },
  {
   "cell_type": "code",
   "execution_count": null,
   "id": "3e7c5750",
   "metadata": {},
   "outputs": [],
   "source": [
    "ffi_interface.compile(verbose=True)"
   ]
  },
  {
   "cell_type": "markdown",
   "id": "1de55729",
   "metadata": {},
   "source": [
    "Import the extension module just like any Python module."
   ]
  },
  {
   "cell_type": "code",
   "execution_count": null,
   "id": "fcc609df",
   "metadata": {},
   "outputs": [],
   "source": [
    "from _exercise_1 import ffi, lib"
   ]
  },
  {
   "cell_type": "code",
   "execution_count": null,
   "id": "d6369dd9",
   "metadata": {},
   "outputs": [],
   "source": [
    "lib.fibonacci(10) == fibonacci(10)"
   ]
  },
  {
   "cell_type": "markdown",
   "id": "b1d487cc",
   "metadata": {},
   "source": [
    "#### Profiling \n",
    "Use IPython's timeit magic to compare the runtime of the two functions."
   ]
  },
  {
   "cell_type": "code",
   "execution_count": null,
   "id": "a805eb58",
   "metadata": {},
   "outputs": [],
   "source": [
    "for i in range(1,50,10):\n",
    "    %timeit lib.fibonacci(i)"
   ]
  },
  {
   "cell_type": "code",
   "execution_count": null,
   "id": "184b952d",
   "metadata": {},
   "outputs": [],
   "source": [
    "for i in range(1,50,10):\n",
    "    %timeit fibonacci(i)"
   ]
  }
 ],
 "metadata": {
  "kernelspec": {
   "display_name": "Python 3",
   "language": "python",
   "name": "python3"
  },
  "language_info": {
   "codemirror_mode": {
    "name": "ipython",
    "version": 3
   },
   "file_extension": ".py",
   "mimetype": "text/x-python",
   "name": "python",
   "nbconvert_exporter": "python",
   "pygments_lexer": "ipython3",
   "version": "3.9.12"
  }
 },
 "nbformat": 4,
 "nbformat_minor": 5
}
